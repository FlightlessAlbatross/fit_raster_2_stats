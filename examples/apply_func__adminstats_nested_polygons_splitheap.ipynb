{
 "cells": [
  {
   "cell_type": "code",
   "execution_count": 1,
   "id": "79c4f4af",
   "metadata": {},
   "outputs": [],
   "source": [
    "import numpy as np\n",
    "import rasterio\n",
    "from rasterio.mask import mask\n",
    "import os\n",
    "\n",
    "# from rasterio.features import bounds as feature_bounds\n",
    "import pandas as pd\n",
    "import geopandas as gpd\n",
    "\n",
    "import func__adminstats_nested_polygons_splitheap as frr"
   ]
  },
  {
   "cell_type": "code",
   "execution_count": 2,
   "id": "152953a1",
   "metadata": {},
   "outputs": [],
   "source": [
    "# # load admin data. Its nees a specific structure.\n",
    "# It needs a column called NUTS_ID, and a column cl_{x}_total for each category code x.\n",
    "\n",
    "# TODO: move gpd.read_file(admin_GIS_path) into the pipeline. \n",
    "admin_GIS_path = 'in_data/admin/NUTS_branches_int.geojson'\n",
    "polys = gpd.read_file(admin_GIS_path)\n",
    "\n",
    "polys['cl_1_total'] = polys['cl_1_total'].fillna(-99)\n",
    "polys['cl_2_total'] = polys['cl_2_total'].fillna(-99)\n",
    "polys['cl_3_total'] = polys['cl_3_total'].fillna(-99)\n",
    "polys['cl_4_total'] = polys['cl_4_total'].fillna(-99)\n",
    "\n",
    "polys['cl_1_total'] = polys['cl_1_total'].astype(int)\n",
    "polys['cl_2_total'] = polys['cl_2_total'].astype(int)\n",
    "polys['cl_3_total'] = polys['cl_3_total'].astype(int)\n",
    "polys['cl_4_total'] = polys['cl_4_total'].astype(int)\n",
    "\n",
    "# define path for the urban areas. This is a fixed layer\n",
    "urban_mask_path = 'in_data/CLC/u2018_clc2018_v2020_20u1_raster100m/DATA/EU_urbanmask_1xx.tif'\n",
    "\n",
    "fixed_layer_paths = [urban_mask_path]\n",
    "fixed_layer_codes = [5]\n",
    "\n",
    "\n",
    "\n",
    "foresttif_path         = \"out_data/predictions/RF/EU_RF_mean_integer_compressed.tif\"\n",
    "grasslandtif_path      = \"in_data/Corine_landcover/Grass_probability_final_layer_blured_Q2.tif\"\n",
    "# arab_croplandtif_path  = \"in_data/Corine_landcover/ziga_filtered/arable_Crops_probability_final_layer_blured_Q2.tif\"\n",
    "# perm_croplandtif_path  = \"in_data/Corine_landcover/ziga_filtered/permanent_Crops_probability_final_layer_blured_Q2.tif\"\n",
    "\n",
    "# I didn't have them EU wide, so I am using these for testing. \n",
    "arab_croplandtif_path  = \"in_data/Corine_landcover/Crops_probability_final_layer_blured_mean.tif\"\n",
    "perm_croplandtif_path  = \"in_data/Corine_landcover/Crops_probability_final_layer_blured_mean.tif\"\n",
    "\n",
    "\n",
    "probability_layers_paths = [\n",
    "    foresttif_path,\n",
    "    grasslandtif_path,\n",
    "    arab_croplandtif_path,\n",
    "    perm_croplandtif_path\n",
    "]\n",
    "\n",
    "probability_layers_codes = [1, 4, 2, 3]\n",
    "\n",
    "region_raster_path  = 'in_data/admin/rasterized_NUTS_int.tif'\n",
    "\n"
   ]
  },
  {
   "cell_type": "code",
   "execution_count": 3,
   "id": "93eeaa87",
   "metadata": {},
   "outputs": [],
   "source": [
    "# polys = polys[polys['NUTS_ID'].isin( ['BE2', 'BE21', 'BE22', 'BE23', 'BE24', 'BE25'])]\n",
    "# polys\n",
    "# this does not work since 'BE' shows up in the tree, Im sure. \n",
    "# we can build in checks for that!!"
   ]
  },
  {
   "cell_type": "code",
   "execution_count": 4,
   "id": "8c770c60",
   "metadata": {},
   "outputs": [],
   "source": [
    "config =  frr.ProcessingConfig(\n",
    "    fixed_layer            = frr.LayerConfig(paths = fixed_layer_paths, codes = fixed_layer_codes),\n",
    "    probability_layer      = frr.LayerConfig(paths = probability_layers_paths, codes = probability_layers_codes), \n",
    "    administrative_polygon = polys)\n",
    "\n",
    "# once the data has been put into the containers, this line does the computation. \n",
    "# misc_value is given to the leftover pixels that we couldn't attribute to any of the admin classes.\n",
    "\n",
    "# pipeline returns a numpy.ma.core.MaskedArray\n"
   ]
  },
  {
   "cell_type": "code",
   "execution_count": null,
   "id": "6725a35c",
   "metadata": {},
   "outputs": [
    {
     "name": "stdout",
     "output_type": "stream",
     "text": [
      "We split the whole tree into 248 subtrees.\n",
      "215 of these subtrees are a single region.\n",
      "The largest subtree has 13 (nested) regions\n"
     ]
    }
   ],
   "source": [
    "frr.pipeline(config, region_raster_path, misc_value = 10, output_folder = 'out_data/predictions/landcover_fillup/multilevel')"
   ]
  }
 ],
 "metadata": {
  "kernelspec": {
   "display_name": "Python 3 (ipykernel)",
   "language": "python",
   "name": "python3"
  },
  "language_info": {
   "codemirror_mode": {
    "name": "ipython",
    "version": 3
   },
   "file_extension": ".py",
   "mimetype": "text/x-python",
   "name": "python",
   "nbconvert_exporter": "python",
   "pygments_lexer": "ipython3",
   "version": "3.10.12"
  }
 },
 "nbformat": 4,
 "nbformat_minor": 5
}
